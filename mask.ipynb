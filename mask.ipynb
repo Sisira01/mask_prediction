{
  "nbformat": 4,
  "nbformat_minor": 0,
  "metadata": {
    "colab": {
      "provenance": []
    },
    "kernelspec": {
      "name": "python3",
      "display_name": "Python 3"
    },
    "language_info": {
      "name": "python"
    }
  },
  "cells": [
    {
      "cell_type": "code",
      "source": [
        "from google.colab import drive\n",
        "drive.mount('/content/drive')"
      ],
      "metadata": {
        "id": "59O3hHxwcwin",
        "colab": {
          "base_uri": "https://localhost:8080/"
        },
        "outputId": "fa3553a3-4fd7-43cf-8d22-de4e534b60ea"
      },
      "execution_count": null,
      "outputs": [
        {
          "output_type": "stream",
          "name": "stdout",
          "text": [
            "Drive already mounted at /content/drive; to attempt to forcibly remount, call drive.mount(\"/content/drive\", force_remount=True).\n"
          ]
        }
      ]
    },
    {
      "cell_type": "code",
      "source": [
        "import pandas as pd\n",
        "from sklearn import svm\n",
        "import os\n",
        "#import matplotlib.pyplot as plt\n",
        "from skimage.transform import resize   #to resize image\n",
        "from skimage.io import imread          #to read image\n",
        "import numpy as np\n",
        "from sklearn.model_selection import train_test_split"
      ],
      "metadata": {
        "id": "RJimr44tUx7-"
      },
      "execution_count": null,
      "outputs": []
    },
    {
      "cell_type": "code",
      "source": [
        "os.listdir('/content/drive/MyDrive/mask_data')"
      ],
      "metadata": {
        "colab": {
          "base_uri": "https://localhost:8080/"
        },
        "id": "g2POyLFNVEQV",
        "outputId": "79827def-759e-4371-a80b-5886b8fc00f9"
      },
      "execution_count": null,
      "outputs": [
        {
          "output_type": "execute_result",
          "data": {
            "text/plain": [
              "['with_mask', 'without_mask']"
            ]
          },
          "metadata": {},
          "execution_count": 62
        }
      ]
    },
    {
      "cell_type": "code",
      "source": [
        "flat_data_arr = []\n",
        "target_arr = []\n",
        "Categories =['with_mask','without_mask']\n",
        "datadir = '/content/drive/MyDrive/mask_data'"
      ],
      "metadata": {
        "id": "I2uHtfFwVcGh"
      },
      "execution_count": null,
      "outputs": []
    },
    {
      "cell_type": "code",
      "source": [
        "for i in Categories:\n",
        "  print(\"loading... category :\",i)\n",
        "  path=os.path.join(datadir,i)\n",
        "  for img in os.listdir(path)[0:100]:\n",
        "    img_array=imread(os.path.join(path,img))\n",
        "    img_resized = resize(img_array,(150,150,3))\n",
        "    flat_data_arr.append(img_resized.flatten())\n",
        "    target_arr.append(Categories.index(i))\n",
        "  print(\"loaded category:\",i,\"successfully\")\n"
      ],
      "metadata": {
        "colab": {
          "base_uri": "https://localhost:8080/"
        },
        "id": "prB_NL2kVn4W",
        "outputId": "29158dde-e459-4c51-e706-24bb4ad7b118"
      },
      "execution_count": null,
      "outputs": [
        {
          "output_type": "stream",
          "name": "stdout",
          "text": [
            "loading... category : with_mask\n",
            "loaded category: with_mask successfully\n",
            "loading... category : without_mask\n",
            "loaded category: without_mask successfully\n"
          ]
        }
      ]
    },
    {
      "cell_type": "code",
      "source": [
        "flat_data =np.array(flat_data_arr) \n",
        "target = np.array(target_arr)\n",
        "df = pd.DataFrame(flat_data)\n",
        "df"
      ],
      "metadata": {
        "colab": {
          "base_uri": "https://localhost:8080/",
          "height": 488
        },
        "id": "ZFTXIqKCWG-j",
        "outputId": "ef0d6ffe-37a9-4c68-fab6-1a469fcdec45"
      },
      "execution_count": null,
      "outputs": [
        {
          "output_type": "execute_result",
          "data": {
            "text/plain": [
              "        0         1         2         3         4         5         6      \\\n",
              "0    0.695529  0.719058  0.703372  0.737111  0.757072  0.741386  0.744159   \n",
              "1    0.849908  0.691381  0.524196  0.853828  0.688235  0.523749  0.854902   \n",
              "2    0.796078  0.847059  0.921569  0.796078  0.847059  0.921569  0.796078   \n",
              "3    0.988235  0.988235  0.988235  0.988235  0.988235  0.988235  0.987708   \n",
              "4    0.816706  0.887007  0.824261  0.791268  0.843974  0.777307  0.723190   \n",
              "..        ...       ...       ...       ...       ...       ...       ...   \n",
              "195  0.960784  0.945098  0.909804  0.962510  0.946824  0.911529  0.964706   \n",
              "196  0.654902  0.701961  0.749020  0.654902  0.701961  0.749020  0.654902   \n",
              "197  0.862745  0.839216  0.784314  0.862675  0.839146  0.784314  0.859651   \n",
              "198  0.996078  0.996078  0.996078  0.996078  0.996078  0.996078  0.996078   \n",
              "199  0.816918  0.501699  0.277359  0.837725  0.541176  0.292627  0.843137   \n",
              "\n",
              "        7         8         9      ...     67490     67491     67492  \\\n",
              "0    0.763556  0.742500  0.765292  ...  0.873529  0.852850  0.833242   \n",
              "1    0.682758  0.520458  0.856458  ...  0.324196  0.557884  0.293375   \n",
              "2    0.847059  0.921569  0.796078  ...  0.479511  0.371268  0.398719   \n",
              "3    0.987708  0.987708  0.988513  ...  0.996078  1.000000  1.000000   \n",
              "4    0.743190  0.686568  0.584837  ...  0.843582  0.980392  0.921569   \n",
              "..        ...       ...       ...  ...       ...       ...       ...   \n",
              "195  0.949020  0.913725  0.964810  ...  0.834980  0.953203  0.925752   \n",
              "196  0.701961  0.749020  0.654902  ...  0.736582  0.788915  0.729593   \n",
              "197  0.836121  0.781242  0.858824  ...  0.544188  0.810405  0.596618   \n",
              "198  0.996078  0.996078  0.996078  ...  0.936909  0.996078  0.992157   \n",
              "199  0.580873  0.294118  0.848810  ...  0.130584  0.459739  0.314860   \n",
              "\n",
              "        67493     67494     67495     67496     67497     67498     67499  \n",
              "0    0.863675  0.848209  0.828601  0.852131  0.848209  0.828601  0.852131  \n",
              "1    0.321414  0.574322  0.277028  0.314911  0.577807  0.259791  0.305184  \n",
              "2    0.528131  0.390620  0.429307  0.566562  0.413869  0.455686  0.592941  \n",
              "3    1.000000  1.000000  1.000000  1.000000  1.000000  1.000000  1.000000  \n",
              "4    0.847059  0.980392  0.921569  0.847405  0.980392  0.921569  0.847059  \n",
              "..        ...       ...       ...       ...       ...       ...       ...  \n",
              "195  0.851242  0.949333  0.926275  0.851765  0.933908  0.914301  0.839791  \n",
              "196  0.733356  0.814693  0.754224  0.756967  0.838092  0.788784  0.788784  \n",
              "197  0.621542  0.866414  0.694910  0.705451  0.890242  0.740674  0.742903  \n",
              "198  0.945569  0.995229  0.990459  0.943021  0.989983  0.986711  0.937399  \n",
              "199  0.169961  0.508549  0.339755  0.184157  0.529098  0.344941  0.182118  \n",
              "\n",
              "[200 rows x 67500 columns]"
            ],
            "text/html": [
              "\n",
              "  <div id=\"df-3240a52a-bc18-4acf-b595-985b8d5d5da4\">\n",
              "    <div class=\"colab-df-container\">\n",
              "      <div>\n",
              "<style scoped>\n",
              "    .dataframe tbody tr th:only-of-type {\n",
              "        vertical-align: middle;\n",
              "    }\n",
              "\n",
              "    .dataframe tbody tr th {\n",
              "        vertical-align: top;\n",
              "    }\n",
              "\n",
              "    .dataframe thead th {\n",
              "        text-align: right;\n",
              "    }\n",
              "</style>\n",
              "<table border=\"1\" class=\"dataframe\">\n",
              "  <thead>\n",
              "    <tr style=\"text-align: right;\">\n",
              "      <th></th>\n",
              "      <th>0</th>\n",
              "      <th>1</th>\n",
              "      <th>2</th>\n",
              "      <th>3</th>\n",
              "      <th>4</th>\n",
              "      <th>5</th>\n",
              "      <th>6</th>\n",
              "      <th>7</th>\n",
              "      <th>8</th>\n",
              "      <th>9</th>\n",
              "      <th>...</th>\n",
              "      <th>67490</th>\n",
              "      <th>67491</th>\n",
              "      <th>67492</th>\n",
              "      <th>67493</th>\n",
              "      <th>67494</th>\n",
              "      <th>67495</th>\n",
              "      <th>67496</th>\n",
              "      <th>67497</th>\n",
              "      <th>67498</th>\n",
              "      <th>67499</th>\n",
              "    </tr>\n",
              "  </thead>\n",
              "  <tbody>\n",
              "    <tr>\n",
              "      <th>0</th>\n",
              "      <td>0.695529</td>\n",
              "      <td>0.719058</td>\n",
              "      <td>0.703372</td>\n",
              "      <td>0.737111</td>\n",
              "      <td>0.757072</td>\n",
              "      <td>0.741386</td>\n",
              "      <td>0.744159</td>\n",
              "      <td>0.763556</td>\n",
              "      <td>0.742500</td>\n",
              "      <td>0.765292</td>\n",
              "      <td>...</td>\n",
              "      <td>0.873529</td>\n",
              "      <td>0.852850</td>\n",
              "      <td>0.833242</td>\n",
              "      <td>0.863675</td>\n",
              "      <td>0.848209</td>\n",
              "      <td>0.828601</td>\n",
              "      <td>0.852131</td>\n",
              "      <td>0.848209</td>\n",
              "      <td>0.828601</td>\n",
              "      <td>0.852131</td>\n",
              "    </tr>\n",
              "    <tr>\n",
              "      <th>1</th>\n",
              "      <td>0.849908</td>\n",
              "      <td>0.691381</td>\n",
              "      <td>0.524196</td>\n",
              "      <td>0.853828</td>\n",
              "      <td>0.688235</td>\n",
              "      <td>0.523749</td>\n",
              "      <td>0.854902</td>\n",
              "      <td>0.682758</td>\n",
              "      <td>0.520458</td>\n",
              "      <td>0.856458</td>\n",
              "      <td>...</td>\n",
              "      <td>0.324196</td>\n",
              "      <td>0.557884</td>\n",
              "      <td>0.293375</td>\n",
              "      <td>0.321414</td>\n",
              "      <td>0.574322</td>\n",
              "      <td>0.277028</td>\n",
              "      <td>0.314911</td>\n",
              "      <td>0.577807</td>\n",
              "      <td>0.259791</td>\n",
              "      <td>0.305184</td>\n",
              "    </tr>\n",
              "    <tr>\n",
              "      <th>2</th>\n",
              "      <td>0.796078</td>\n",
              "      <td>0.847059</td>\n",
              "      <td>0.921569</td>\n",
              "      <td>0.796078</td>\n",
              "      <td>0.847059</td>\n",
              "      <td>0.921569</td>\n",
              "      <td>0.796078</td>\n",
              "      <td>0.847059</td>\n",
              "      <td>0.921569</td>\n",
              "      <td>0.796078</td>\n",
              "      <td>...</td>\n",
              "      <td>0.479511</td>\n",
              "      <td>0.371268</td>\n",
              "      <td>0.398719</td>\n",
              "      <td>0.528131</td>\n",
              "      <td>0.390620</td>\n",
              "      <td>0.429307</td>\n",
              "      <td>0.566562</td>\n",
              "      <td>0.413869</td>\n",
              "      <td>0.455686</td>\n",
              "      <td>0.592941</td>\n",
              "    </tr>\n",
              "    <tr>\n",
              "      <th>3</th>\n",
              "      <td>0.988235</td>\n",
              "      <td>0.988235</td>\n",
              "      <td>0.988235</td>\n",
              "      <td>0.988235</td>\n",
              "      <td>0.988235</td>\n",
              "      <td>0.988235</td>\n",
              "      <td>0.987708</td>\n",
              "      <td>0.987708</td>\n",
              "      <td>0.987708</td>\n",
              "      <td>0.988513</td>\n",
              "      <td>...</td>\n",
              "      <td>0.996078</td>\n",
              "      <td>1.000000</td>\n",
              "      <td>1.000000</td>\n",
              "      <td>1.000000</td>\n",
              "      <td>1.000000</td>\n",
              "      <td>1.000000</td>\n",
              "      <td>1.000000</td>\n",
              "      <td>1.000000</td>\n",
              "      <td>1.000000</td>\n",
              "      <td>1.000000</td>\n",
              "    </tr>\n",
              "    <tr>\n",
              "      <th>4</th>\n",
              "      <td>0.816706</td>\n",
              "      <td>0.887007</td>\n",
              "      <td>0.824261</td>\n",
              "      <td>0.791268</td>\n",
              "      <td>0.843974</td>\n",
              "      <td>0.777307</td>\n",
              "      <td>0.723190</td>\n",
              "      <td>0.743190</td>\n",
              "      <td>0.686568</td>\n",
              "      <td>0.584837</td>\n",
              "      <td>...</td>\n",
              "      <td>0.843582</td>\n",
              "      <td>0.980392</td>\n",
              "      <td>0.921569</td>\n",
              "      <td>0.847059</td>\n",
              "      <td>0.980392</td>\n",
              "      <td>0.921569</td>\n",
              "      <td>0.847405</td>\n",
              "      <td>0.980392</td>\n",
              "      <td>0.921569</td>\n",
              "      <td>0.847059</td>\n",
              "    </tr>\n",
              "    <tr>\n",
              "      <th>...</th>\n",
              "      <td>...</td>\n",
              "      <td>...</td>\n",
              "      <td>...</td>\n",
              "      <td>...</td>\n",
              "      <td>...</td>\n",
              "      <td>...</td>\n",
              "      <td>...</td>\n",
              "      <td>...</td>\n",
              "      <td>...</td>\n",
              "      <td>...</td>\n",
              "      <td>...</td>\n",
              "      <td>...</td>\n",
              "      <td>...</td>\n",
              "      <td>...</td>\n",
              "      <td>...</td>\n",
              "      <td>...</td>\n",
              "      <td>...</td>\n",
              "      <td>...</td>\n",
              "      <td>...</td>\n",
              "      <td>...</td>\n",
              "      <td>...</td>\n",
              "    </tr>\n",
              "    <tr>\n",
              "      <th>195</th>\n",
              "      <td>0.960784</td>\n",
              "      <td>0.945098</td>\n",
              "      <td>0.909804</td>\n",
              "      <td>0.962510</td>\n",
              "      <td>0.946824</td>\n",
              "      <td>0.911529</td>\n",
              "      <td>0.964706</td>\n",
              "      <td>0.949020</td>\n",
              "      <td>0.913725</td>\n",
              "      <td>0.964810</td>\n",
              "      <td>...</td>\n",
              "      <td>0.834980</td>\n",
              "      <td>0.953203</td>\n",
              "      <td>0.925752</td>\n",
              "      <td>0.851242</td>\n",
              "      <td>0.949333</td>\n",
              "      <td>0.926275</td>\n",
              "      <td>0.851765</td>\n",
              "      <td>0.933908</td>\n",
              "      <td>0.914301</td>\n",
              "      <td>0.839791</td>\n",
              "    </tr>\n",
              "    <tr>\n",
              "      <th>196</th>\n",
              "      <td>0.654902</td>\n",
              "      <td>0.701961</td>\n",
              "      <td>0.749020</td>\n",
              "      <td>0.654902</td>\n",
              "      <td>0.701961</td>\n",
              "      <td>0.749020</td>\n",
              "      <td>0.654902</td>\n",
              "      <td>0.701961</td>\n",
              "      <td>0.749020</td>\n",
              "      <td>0.654902</td>\n",
              "      <td>...</td>\n",
              "      <td>0.736582</td>\n",
              "      <td>0.788915</td>\n",
              "      <td>0.729593</td>\n",
              "      <td>0.733356</td>\n",
              "      <td>0.814693</td>\n",
              "      <td>0.754224</td>\n",
              "      <td>0.756967</td>\n",
              "      <td>0.838092</td>\n",
              "      <td>0.788784</td>\n",
              "      <td>0.788784</td>\n",
              "    </tr>\n",
              "    <tr>\n",
              "      <th>197</th>\n",
              "      <td>0.862745</td>\n",
              "      <td>0.839216</td>\n",
              "      <td>0.784314</td>\n",
              "      <td>0.862675</td>\n",
              "      <td>0.839146</td>\n",
              "      <td>0.784314</td>\n",
              "      <td>0.859651</td>\n",
              "      <td>0.836121</td>\n",
              "      <td>0.781242</td>\n",
              "      <td>0.858824</td>\n",
              "      <td>...</td>\n",
              "      <td>0.544188</td>\n",
              "      <td>0.810405</td>\n",
              "      <td>0.596618</td>\n",
              "      <td>0.621542</td>\n",
              "      <td>0.866414</td>\n",
              "      <td>0.694910</td>\n",
              "      <td>0.705451</td>\n",
              "      <td>0.890242</td>\n",
              "      <td>0.740674</td>\n",
              "      <td>0.742903</td>\n",
              "    </tr>\n",
              "    <tr>\n",
              "      <th>198</th>\n",
              "      <td>0.996078</td>\n",
              "      <td>0.996078</td>\n",
              "      <td>0.996078</td>\n",
              "      <td>0.996078</td>\n",
              "      <td>0.996078</td>\n",
              "      <td>0.996078</td>\n",
              "      <td>0.996078</td>\n",
              "      <td>0.996078</td>\n",
              "      <td>0.996078</td>\n",
              "      <td>0.996078</td>\n",
              "      <td>...</td>\n",
              "      <td>0.936909</td>\n",
              "      <td>0.996078</td>\n",
              "      <td>0.992157</td>\n",
              "      <td>0.945569</td>\n",
              "      <td>0.995229</td>\n",
              "      <td>0.990459</td>\n",
              "      <td>0.943021</td>\n",
              "      <td>0.989983</td>\n",
              "      <td>0.986711</td>\n",
              "      <td>0.937399</td>\n",
              "    </tr>\n",
              "    <tr>\n",
              "      <th>199</th>\n",
              "      <td>0.816918</td>\n",
              "      <td>0.501699</td>\n",
              "      <td>0.277359</td>\n",
              "      <td>0.837725</td>\n",
              "      <td>0.541176</td>\n",
              "      <td>0.292627</td>\n",
              "      <td>0.843137</td>\n",
              "      <td>0.580873</td>\n",
              "      <td>0.294118</td>\n",
              "      <td>0.848810</td>\n",
              "      <td>...</td>\n",
              "      <td>0.130584</td>\n",
              "      <td>0.459739</td>\n",
              "      <td>0.314860</td>\n",
              "      <td>0.169961</td>\n",
              "      <td>0.508549</td>\n",
              "      <td>0.339755</td>\n",
              "      <td>0.184157</td>\n",
              "      <td>0.529098</td>\n",
              "      <td>0.344941</td>\n",
              "      <td>0.182118</td>\n",
              "    </tr>\n",
              "  </tbody>\n",
              "</table>\n",
              "<p>200 rows × 67500 columns</p>\n",
              "</div>\n",
              "      <button class=\"colab-df-convert\" onclick=\"convertToInteractive('df-3240a52a-bc18-4acf-b595-985b8d5d5da4')\"\n",
              "              title=\"Convert this dataframe to an interactive table.\"\n",
              "              style=\"display:none;\">\n",
              "        \n",
              "  <svg xmlns=\"http://www.w3.org/2000/svg\" height=\"24px\"viewBox=\"0 0 24 24\"\n",
              "       width=\"24px\">\n",
              "    <path d=\"M0 0h24v24H0V0z\" fill=\"none\"/>\n",
              "    <path d=\"M18.56 5.44l.94 2.06.94-2.06 2.06-.94-2.06-.94-.94-2.06-.94 2.06-2.06.94zm-11 1L8.5 8.5l.94-2.06 2.06-.94-2.06-.94L8.5 2.5l-.94 2.06-2.06.94zm10 10l.94 2.06.94-2.06 2.06-.94-2.06-.94-.94-2.06-.94 2.06-2.06.94z\"/><path d=\"M17.41 7.96l-1.37-1.37c-.4-.4-.92-.59-1.43-.59-.52 0-1.04.2-1.43.59L10.3 9.45l-7.72 7.72c-.78.78-.78 2.05 0 2.83L4 21.41c.39.39.9.59 1.41.59.51 0 1.02-.2 1.41-.59l7.78-7.78 2.81-2.81c.8-.78.8-2.07 0-2.86zM5.41 20L4 18.59l7.72-7.72 1.47 1.35L5.41 20z\"/>\n",
              "  </svg>\n",
              "      </button>\n",
              "      \n",
              "  <style>\n",
              "    .colab-df-container {\n",
              "      display:flex;\n",
              "      flex-wrap:wrap;\n",
              "      gap: 12px;\n",
              "    }\n",
              "\n",
              "    .colab-df-convert {\n",
              "      background-color: #E8F0FE;\n",
              "      border: none;\n",
              "      border-radius: 50%;\n",
              "      cursor: pointer;\n",
              "      display: none;\n",
              "      fill: #1967D2;\n",
              "      height: 32px;\n",
              "      padding: 0 0 0 0;\n",
              "      width: 32px;\n",
              "    }\n",
              "\n",
              "    .colab-df-convert:hover {\n",
              "      background-color: #E2EBFA;\n",
              "      box-shadow: 0px 1px 2px rgba(60, 64, 67, 0.3), 0px 1px 3px 1px rgba(60, 64, 67, 0.15);\n",
              "      fill: #174EA6;\n",
              "    }\n",
              "\n",
              "    [theme=dark] .colab-df-convert {\n",
              "      background-color: #3B4455;\n",
              "      fill: #D2E3FC;\n",
              "    }\n",
              "\n",
              "    [theme=dark] .colab-df-convert:hover {\n",
              "      background-color: #434B5C;\n",
              "      box-shadow: 0px 1px 3px 1px rgba(0, 0, 0, 0.15);\n",
              "      filter: drop-shadow(0px 1px 2px rgba(0, 0, 0, 0.3));\n",
              "      fill: #FFFFFF;\n",
              "    }\n",
              "  </style>\n",
              "\n",
              "      <script>\n",
              "        const buttonEl =\n",
              "          document.querySelector('#df-3240a52a-bc18-4acf-b595-985b8d5d5da4 button.colab-df-convert');\n",
              "        buttonEl.style.display =\n",
              "          google.colab.kernel.accessAllowed ? 'block' : 'none';\n",
              "\n",
              "        async function convertToInteractive(key) {\n",
              "          const element = document.querySelector('#df-3240a52a-bc18-4acf-b595-985b8d5d5da4');\n",
              "          const dataTable =\n",
              "            await google.colab.kernel.invokeFunction('convertToInteractive',\n",
              "                                                     [key], {});\n",
              "          if (!dataTable) return;\n",
              "\n",
              "          const docLinkHtml = 'Like what you see? Visit the ' +\n",
              "            '<a target=\"_blank\" href=https://colab.research.google.com/notebooks/data_table.ipynb>data table notebook</a>'\n",
              "            + ' to learn more about interactive tables.';\n",
              "          element.innerHTML = '';\n",
              "          dataTable['output_type'] = 'display_data';\n",
              "          await google.colab.output.renderOutput(dataTable, element);\n",
              "          const docLink = document.createElement('div');\n",
              "          docLink.innerHTML = docLinkHtml;\n",
              "          element.appendChild(docLink);\n",
              "        }\n",
              "      </script>\n",
              "    </div>\n",
              "  </div>\n",
              "  "
            ]
          },
          "metadata": {},
          "execution_count": 65
        }
      ]
    },
    {
      "cell_type": "code",
      "source": [
        "df['Target']=target"
      ],
      "metadata": {
        "id": "ZfPUgE6Jgdb5"
      },
      "execution_count": null,
      "outputs": []
    },
    {
      "cell_type": "code",
      "source": [
        "x=df.iloc[:,:-1]\n",
        "y=df.iloc[:,-1]"
      ],
      "metadata": {
        "id": "40o13q2cX9vn"
      },
      "execution_count": null,
      "outputs": []
    },
    {
      "cell_type": "code",
      "source": [
        "from sklearn import svm\n",
        "from sklearn.model_selection import train_test_split\n",
        "x_train,x_test,y_train,y_test = train_test_split(x,y,test_size=0.20,random_state=77)"
      ],
      "metadata": {
        "id": "Kx5sXLdvYvYe"
      },
      "execution_count": null,
      "outputs": []
    },
    {
      "cell_type": "markdown",
      "source": [],
      "metadata": {
        "id": "Ox9945Eki6DY"
      }
    },
    {
      "cell_type": "code",
      "source": [
        "clf=svm.SVC()\n",
        "clf.fit(x_train,y_train)"
      ],
      "metadata": {
        "colab": {
          "base_uri": "https://localhost:8080/"
        },
        "id": "NYMqfYniY0FP",
        "outputId": "747ca862-9648-401e-8fc1-ed268ba68bff"
      },
      "execution_count": null,
      "outputs": [
        {
          "output_type": "execute_result",
          "data": {
            "text/plain": [
              "SVC()"
            ]
          },
          "metadata": {},
          "execution_count": 69
        }
      ]
    },
    {
      "cell_type": "code",
      "source": [
        "y_pred=clf.predict(x_test)\n",
        "y_pred"
      ],
      "metadata": {
        "colab": {
          "base_uri": "https://localhost:8080/"
        },
        "id": "wpw2r2mFY9V-",
        "outputId": "2054548a-9d9f-45b0-d853-64c3fea443f0"
      },
      "execution_count": null,
      "outputs": [
        {
          "output_type": "execute_result",
          "data": {
            "text/plain": [
              "array([0, 0, 1, 1, 1, 0, 1, 1, 0, 1, 1, 1, 1, 0, 1, 1, 0, 0, 1, 1, 1, 1,\n",
              "       0, 1, 1, 1, 1, 1, 1, 0, 0, 0, 1, 1, 1, 0, 0, 1, 1, 1])"
            ]
          },
          "metadata": {},
          "execution_count": 70
        }
      ]
    },
    {
      "cell_type": "code",
      "source": [
        "from sklearn.metrics import accuracy_score\n",
        "print(accuracy_score(y_test,y_pred))"
      ],
      "metadata": {
        "colab": {
          "base_uri": "https://localhost:8080/"
        },
        "id": "LDmSzLn6af5q",
        "outputId": "8f3331c4-933d-4020-e1cf-d7685dee5928"
      },
      "execution_count": null,
      "outputs": [
        {
          "output_type": "stream",
          "name": "stdout",
          "text": [
            "0.85\n"
          ]
        }
      ]
    },
    {
      "cell_type": "code",
      "source": [
        "from sklearn.metrics import ConfusionMatrixDisplay\n",
        "print(ConfusionMatrixDisplay.from_predictions(y_test,y_pred))"
      ],
      "metadata": {
        "colab": {
          "base_uri": "https://localhost:8080/",
          "height": 296
        },
        "id": "Ln7uuuJEh9K8",
        "outputId": "2b2324d7-4207-413e-b596-da7a88736c95"
      },
      "execution_count": null,
      "outputs": [
        {
          "output_type": "stream",
          "name": "stdout",
          "text": [
            "<sklearn.metrics._plot.confusion_matrix.ConfusionMatrixDisplay object at 0x7fbb43f66dd0>\n"
          ]
        },
        {
          "output_type": "display_data",
          "data": {
            "text/plain": [
              "<Figure size 432x288 with 2 Axes>"
            ],
            "image/png": "[encoded data removed]"
          },
          "metadata": {
            "needs_background": "light"
          }
        }
      ]
    },
    {
      "cell_type": "code",
      "source": [
        "path='/content/drive/MyDrive/withmask.jpeg'\n",
        "img=imread(path)\n",
        "img=resize(img,(150,150,3)).flatten().reshape(1,-1)\n",
        "clf.predict(img)"
      ],
      "metadata": {
        "colab": {
          "base_uri": "https://localhost:8080/"
        },
        "id": "MJJcGXA0jNIz",
        "outputId": "f29ca336-15f6-4129-88c4-1639695e74f5"
      },
      "execution_count": null,
      "outputs": [
        {
          "output_type": "execute_result",
          "data": {
            "text/plain": [
              "array([1])"
            ]
          },
          "metadata": {},
          "execution_count": 79
        }
      ]
    },
    {
      "cell_type": "code",
      "source": [
        "path='/content/drive/MyDrive/withoutmask.jpg'\n",
        "img=imread(path)\n",
        "img=resize(img,(150,150,3)).flatten().reshape(1,-1)\n",
        "clf.predict(img)"
      ],
      "metadata": {
        "colab": {
          "base_uri": "https://localhost:8080/"
        },
        "id": "tmtw6xmbjcgC",
        "outputId": "580ec29c-5b4b-4f09-d353-a671a12c61f0"
      },
      "execution_count": null,
      "outputs": [
        {
          "output_type": "execute_result",
          "data": {
            "text/plain": [
              "array([1])"
            ]
          },
          "metadata": {},
          "execution_count": 80
        }
      ]
    },
    {
      "cell_type": "code",
      "source": [],
      "metadata": {
        "id": "FoTRRkmXjxdI"
      },
      "execution_count": null,
      "outputs": []
    }
  ]
}